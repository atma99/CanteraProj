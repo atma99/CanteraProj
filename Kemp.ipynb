{
 "cells": [
  {
   "cell_type": "code",
   "execution_count": 1,
   "metadata": {},
   "outputs": [],
   "source": [
    "import matplotlib.pyplot as plt\n",
    "import seaborn as sns\n",
    "import math\n",
    "import numpy as np\n",
    "sns.set()"
   ]
  },
  {
   "cell_type": "code",
   "execution_count": 2,
   "metadata": {},
   "outputs": [],
   "source": [
    "def T_star(p):\n",
    "    return 2000*np.log10(p) + 7000\n"
   ]
  },
  {
   "cell_type": "code",
   "execution_count": 24,
   "metadata": {},
   "outputs": [
    {
     "data": {
      "text/plain": [
       "4637.103496349699"
      ]
     },
     "execution_count": 24,
     "metadata": {},
     "output_type": "execute_result"
    }
   ],
   "source": [
    "thetaI = 158000\n",
    "def S(T):\n",
    "    val = 0\n",
    "    for i in range(1,18):\n",
    "        val += i**2*np.exp(thetaI/(i**2*T))\n",
    "    return val\n",
    "S(20000)"
   ]
  },
  {
   "cell_type": "code",
   "execution_count": 23,
   "metadata": {},
   "outputs": [
    {
     "data": {
      "text/plain": [
       "1220541.6631209848"
      ]
     },
     "execution_count": 23,
     "metadata": {},
     "output_type": "execute_result"
    }
   ],
   "source": [
    "me = 9.109e-31\n",
    "kb = 1.38064852e-23\n",
    "hp = 6.62607015e-34\n",
    "ma = 1.673e-27\n",
    "thetaR = 87.62\n",
    "thetaV = 5983\n",
    "thetaD = 52000\n",
    "def f1(T):\n",
    "    val = ((2*np.pi*me*kb)/hp**2)**(3/2)*(kb*T**(5/2)/S(T))\n",
    "    return val\n",
    "def fD(T):\n",
    "    val = ((np.pi*ma*kb)/hp**2)**(3/2)*2*kb*thetaR*T**(3/2)*(1-np.exp(-thetaV/T))*np.exp(-thetaD/T)\n",
    "    return val\n",
    "fD(5000)"
   ]
  },
  {
   "cell_type": "code",
   "execution_count": 17,
   "metadata": {},
   "outputs": [],
   "source": [
    "def alpha(p, T):\n",
    "    t_star = T_star(p)\n",
    "    if T < t_star:\n",
    "        return 0\n",
    "    else:\n",
    "        return (1 + p/f1(T))**(-1/2)\n",
    "def beta(p, T):\n",
    "    t_star = T_star(p)\n",
    "    if T < t_star:\n",
    "        return (1 + p/fD(T))**(-1/2)\n",
    "    else:\n",
    "        return 1"
   ]
  },
  {
   "cell_type": "code",
   "execution_count": 18,
   "metadata": {},
   "outputs": [
    {
     "data": {
      "text/plain": [
       "7000.0"
      ]
     },
     "execution_count": 18,
     "metadata": {},
     "output_type": "execute_result"
    }
   ],
   "source": [
    "x = np.linspace(100,10000,1000)\n",
    "T_star(1)\n"
   ]
  },
  {
   "cell_type": "code",
   "execution_count": 21,
   "metadata": {},
   "outputs": [],
   "source": [
    "def alphaPlot(p):\n",
    "    x = np.linspace(500,20000,1000)\n",
    "    y = []\n",
    "    for i in x:\n",
    "        y.append(alpha(p,i))\n",
    "    plt.plot(list(x), y)\n",
    "    \n",
    "def betaPlot(p):\n",
    "    x = np.linspace(500,10000,1000)\n",
    "    y = []\n",
    "    for i in x:\n",
    "        y.append(beta(p,i))\n",
    "    plt.plot(list(x), y)"
   ]
  },
  {
   "cell_type": "code",
   "execution_count": 22,
   "metadata": {},
   "outputs": [
    {
     "data": {
      "image/png": "[encoded data removed]",
      "text/plain": [
       "<Figure size 432x288 with 1 Axes>"
      ]
     },
     "metadata": {},
     "output_type": "display_data"
    }
   ],
   "source": [
    "betaPlot(1)"
   ]
  },
  {
   "cell_type": "code",
   "execution_count": 13,
   "metadata": {},
   "outputs": [
    {
     "data": {
      "image/png": "[encoded data removed]",
      "text/plain": [
       "<Figure size 432x288 with 1 Axes>"
      ]
     },
     "metadata": {},
     "output_type": "display_data"
    }
   ],
   "source": [
    "alphaPlot(1)"
   ]
  },
  {
   "cell_type": "code",
   "execution_count": null,
   "metadata": {},
   "outputs": [],
   "source": []
  }
 ],
 "metadata": {
  "kernelspec": {
   "display_name": "canteraEnv",
   "language": "python",
   "name": "canteraenv"
  },
  "language_info": {
   "codemirror_mode": {
    "name": "ipython",
    "version": 3
   },
   "file_extension": ".py",
   "mimetype": "text/x-python",
   "name": "python",
   "nbconvert_exporter": "python",
   "pygments_lexer": "ipython3",
   "version": "3.7.7"
  }
 },
 "nbformat": 4,
 "nbformat_minor": 4
}
